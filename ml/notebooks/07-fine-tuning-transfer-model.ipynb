{
 "cells": [
  {
   "cell_type": "markdown",
   "id": "c8786dd3",
   "metadata": {},
   "source": [
    "# MammoScan AI: 07 - Local Fine-Tuning of the Transfer Learning Model\n",
    "\n",
    "## 🎯 Goal\n",
    "This notebook documents the final stage of our modeling experiments: **advanced fine-tuning**. We will load our previously trained transfer learning model, un-freeze the top layers of the EfficientNet base, and re-train it with on-the-fly data augmentation and a very low learning rate.\n",
    "\n",
    "**⚠️ Performance Warning:** This process is computationally intensive. Running this on a local CPU will be **very slow**. It is recommended for verifying the code works, but for a full training run, the Google Colab version is preferred."
   ]
  },
  {
   "cell_type": "code",
   "execution_count": 2,
   "id": "4dafb487",
   "metadata": {},
   "outputs": [],
   "source": [
    "# --- Core Libraries ---\n",
    "import os\n",
    "import sys\n",
    "import numpy as np\n",
    "import tensorflow as tf\n",
    "from tensorflow.keras import layers, models\n",
    "\n",
    "# --- Path Setup ---\n",
    "project_root = os.path.abspath(os.path.join(os.getcwd(), '..', '..'))\n",
    "if project_root not in sys.path:\n",
    "    sys.path.append(project_root)\n",
    "\n",
    "# --- Custom Modules ---\n",
    "# Import our model builder for robust loading\n",
    "from ml.src.model import create_transfer_model"
   ]
  },
  {
   "cell_type": "markdown",
   "id": "fdf5a63a",
   "metadata": {},
   "source": [
    "## 📥 Step 1: Data & Constants\n",
    "\n",
    "We start by ensuring our processed data is available locally with `dvc pull`. We then define our paths and hyperparameters, including the `EarlyStopping` callback to automatically find the best training duration."
   ]
  },
  {
   "cell_type": "code",
   "execution_count": 3,
   "id": "9d00aef9",
   "metadata": {},
   "outputs": [],
   "source": [
    "# Ensure the processed data is present locally\n",
    "# !dvc pull data/processed.dvc"
   ]
  },
  {
   "cell_type": "code",
   "execution_count": 4,
   "id": "f5474601",
   "metadata": {},
   "outputs": [],
   "source": [
    "# --- Constants ---\n",
    "PROCESSED_DATA_DIR = os.path.join(project_root, 'data', 'processed')\n",
    "# Path to the model we trained in the last notebook\n",
    "BASE_MODEL_PATH = os.path.join(project_root, 'models', 'checkpoints', 'transfer_learning_model.keras')\n",
    "# Path to save our new, fine-tuned model\n",
    "FINE_TUNED_MODEL_PATH = os.path.join(project_root, 'models', 'checkpoints', 'fine_tuned_model.keras')\n",
    "\n",
    "# --- Training Hyperparameters ---\n",
    "IMG_HEIGHT = 224\n",
    "IMG_WIDTH = 224\n",
    "BATCH_SIZE = 32\n",
    "EPOCHS = 50 # Early stopping will find the best number\n",
    "\n",
    "# --- Callbacks ---\n",
    "early_stopping = tf.keras.callbacks.EarlyStopping(\n",
    "    monitor='val_loss',\n",
    "    patience=5,\n",
    "    restore_best_weights=True\n",
    ")"
   ]
  },
  {
   "cell_type": "markdown",
   "id": "fbeb5393",
   "metadata": {},
   "source": [
    "## 🚚 Step 2: Data Preparation with Augmentation\n",
    "\n",
    "We load our datasets and apply on-the-fly augmentation to the training set. The validation set remains un-augmented for a fair evaluation. We also apply the required EfficientNet preprocessing to both datasets."
   ]
  },
  {
   "cell_type": "code",
   "execution_count": 5,
   "id": "a7b87b24",
   "metadata": {},
   "outputs": [
    {
     "name": "stdout",
     "output_type": "stream",
     "text": [
      "Loading datasets...\n",
      "Found 521 files belonging to 2 classes.\n",
      "Found 112 files belonging to 2 classes.\n"
     ]
    },
    {
     "name": "stderr",
     "output_type": "stream",
     "text": [
      "2025-09-03 13:36:46.476121: I external/local_xla/xla/stream_executor/cuda/cuda_executor.cc:998] successful NUMA node read from SysFS had negative value (-1), but there must be at least one NUMA node, so returning NUMA node zero. See more at https://github.com/torvalds/linux/blob/v6.0/Documentation/ABI/testing/sysfs-bus-pci#L344-L355\n",
      "2025-09-03 13:36:46.479908: W tensorflow/core/common_runtime/gpu/gpu_device.cc:2251] Cannot dlopen some GPU libraries. Please make sure the missing libraries mentioned above are installed properly if you would like to use GPU. Follow the guide at https://www.tensorflow.org/install/gpu for how to download and setup the required libraries for your platform.\n",
      "Skipping registering GPU devices...\n"
     ]
    },
    {
     "name": "stdout",
     "output_type": "stream",
     "text": [
      "✅ Datasets loaded. Augmentation and preprocessing applied.\n"
     ]
    }
   ],
   "source": [
    "# --- On-the-fly Data Augmentation ---\n",
    "data_augmentation = tf.keras.Sequential([\n",
    "    layers.RandomFlip(\"horizontal\"),\n",
    "    layers.RandomRotation(0.1),\n",
    "    layers.RandomZoom(0.1),\n",
    "], name=\"data_augmentation\")\n",
    "\n",
    "# --- Data Loading ---\n",
    "print(\"Loading datasets...\")\n",
    "train_dataset = tf.keras.utils.image_dataset_from_directory(\n",
    "    os.path.join(PROCESSED_DATA_DIR, 'train'),\n",
    "    image_size=(IMG_HEIGHT, IMG_WIDTH),\n",
    "    batch_size=BATCH_SIZE,\n",
    "    label_mode='binary'\n",
    ")\n",
    "\n",
    "val_dataset = tf.keras.utils.image_dataset_from_directory(\n",
    "    os.path.join(PROCESSED_DATA_DIR, 'val'),\n",
    "    image_size=(IMG_HEIGHT, IMG_WIDTH),\n",
    "    batch_size=BATCH_SIZE,\n",
    "    label_mode='binary'\n",
    ")\n",
    "\n",
    "# Apply augmentation and preprocessing\n",
    "train_dataset = train_dataset.map(lambda x, y: (data_augmentation(x, training=True), y))\n",
    "preprocess_input = tf.keras.applications.efficientnet.preprocess_input\n",
    "train_dataset = train_dataset.map(lambda x, y: (preprocess_input(x), y))\n",
    "val_dataset = val_dataset.map(lambda x, y: (preprocess_input(x), y))\n",
    "\n",
    "print(\"✅ Datasets loaded. Augmentation and preprocessing applied.\")"
   ]
  },
  {
   "cell_type": "markdown",
   "id": "4f7e36a3",
   "metadata": {},
   "source": [
    "## 🛠️ Step 3: Un-Freezing and Re-Compiling the Model\n",
    "\n",
    "This is the core of fine-tuning. We load our previously trained model, \"un-freeze\" the top layers of the EfficientNet base, and then re-compile the entire model with a very low learning rate to make careful, precise adjustments."
   ]
  },
  {
   "cell_type": "code",
   "execution_count": 7,
   "id": "435210df",
   "metadata": {},
   "outputs": [
    {
     "name": "stdout",
     "output_type": "stream",
     "text": [
      "Loading base model from: /home/mr-rey/Joseph/Projects/Python/mammoscan-AI/models/checkpoints/transfer_learning_model.keras\n",
      "✅ Model re-compiled for fine-tuning.\n"
     ]
    },
    {
     "data": {
      "text/html": [
       "<pre style=\"white-space:pre;overflow-x:auto;line-height:normal;font-family:Menlo,'DejaVu Sans Mono',consolas,'Courier New',monospace\"><span style=\"font-weight: bold\">Model: \"functional\"</span>\n",
       "</pre>\n"
      ],
      "text/plain": [
       "\u001b[1mModel: \"functional\"\u001b[0m\n"
      ]
     },
     "metadata": {},
     "output_type": "display_data"
    },
    {
     "data": {
      "text/html": [
       "<pre style=\"white-space:pre;overflow-x:auto;line-height:normal;font-family:Menlo,'DejaVu Sans Mono',consolas,'Courier New',monospace\">┏━━━━━━━━━━━━━━━━━━━━━━━━━━━━━━━━━┳━━━━━━━━━━━━━━━━━━━━━━━━┳━━━━━━━━━━━━━━━┓\n",
       "┃<span style=\"font-weight: bold\"> Layer (type)                    </span>┃<span style=\"font-weight: bold\"> Output Shape           </span>┃<span style=\"font-weight: bold\">       Param # </span>┃\n",
       "┡━━━━━━━━━━━━━━━━━━━━━━━━━━━━━━━━━╇━━━━━━━━━━━━━━━━━━━━━━━━╇━━━━━━━━━━━━━━━┩\n",
       "│ input_layer_1 (<span style=\"color: #0087ff; text-decoration-color: #0087ff\">InputLayer</span>)      │ (<span style=\"color: #00d7ff; text-decoration-color: #00d7ff\">None</span>, <span style=\"color: #00af00; text-decoration-color: #00af00\">224</span>, <span style=\"color: #00af00; text-decoration-color: #00af00\">224</span>, <span style=\"color: #00af00; text-decoration-color: #00af00\">3</span>)    │             <span style=\"color: #00af00; text-decoration-color: #00af00\">0</span> │\n",
       "├─────────────────────────────────┼────────────────────────┼───────────────┤\n",
       "│ efficientnetb0 (<span style=\"color: #0087ff; text-decoration-color: #0087ff\">Functional</span>)     │ (<span style=\"color: #00d7ff; text-decoration-color: #00d7ff\">None</span>, <span style=\"color: #00af00; text-decoration-color: #00af00\">7</span>, <span style=\"color: #00af00; text-decoration-color: #00af00\">7</span>, <span style=\"color: #00af00; text-decoration-color: #00af00\">1280</span>)     │     <span style=\"color: #00af00; text-decoration-color: #00af00\">4,049,571</span> │\n",
       "├─────────────────────────────────┼────────────────────────┼───────────────┤\n",
       "│ global_average_pooling2d        │ (<span style=\"color: #00d7ff; text-decoration-color: #00d7ff\">None</span>, <span style=\"color: #00af00; text-decoration-color: #00af00\">1280</span>)           │             <span style=\"color: #00af00; text-decoration-color: #00af00\">0</span> │\n",
       "│ (<span style=\"color: #0087ff; text-decoration-color: #0087ff\">GlobalAveragePooling2D</span>)        │                        │               │\n",
       "├─────────────────────────────────┼────────────────────────┼───────────────┤\n",
       "│ dense (<span style=\"color: #0087ff; text-decoration-color: #0087ff\">Dense</span>)                   │ (<span style=\"color: #00d7ff; text-decoration-color: #00d7ff\">None</span>, <span style=\"color: #00af00; text-decoration-color: #00af00\">1</span>)              │         <span style=\"color: #00af00; text-decoration-color: #00af00\">1,281</span> │\n",
       "└─────────────────────────────────┴────────────────────────┴───────────────┘\n",
       "</pre>\n"
      ],
      "text/plain": [
       "┏━━━━━━━━━━━━━━━━━━━━━━━━━━━━━━━━━┳━━━━━━━━━━━━━━━━━━━━━━━━┳━━━━━━━━━━━━━━━┓\n",
       "┃\u001b[1m \u001b[0m\u001b[1mLayer (type)                   \u001b[0m\u001b[1m \u001b[0m┃\u001b[1m \u001b[0m\u001b[1mOutput Shape          \u001b[0m\u001b[1m \u001b[0m┃\u001b[1m \u001b[0m\u001b[1m      Param #\u001b[0m\u001b[1m \u001b[0m┃\n",
       "┡━━━━━━━━━━━━━━━━━━━━━━━━━━━━━━━━━╇━━━━━━━━━━━━━━━━━━━━━━━━╇━━━━━━━━━━━━━━━┩\n",
       "│ input_layer_1 (\u001b[38;5;33mInputLayer\u001b[0m)      │ (\u001b[38;5;45mNone\u001b[0m, \u001b[38;5;34m224\u001b[0m, \u001b[38;5;34m224\u001b[0m, \u001b[38;5;34m3\u001b[0m)    │             \u001b[38;5;34m0\u001b[0m │\n",
       "├─────────────────────────────────┼────────────────────────┼───────────────┤\n",
       "│ efficientnetb0 (\u001b[38;5;33mFunctional\u001b[0m)     │ (\u001b[38;5;45mNone\u001b[0m, \u001b[38;5;34m7\u001b[0m, \u001b[38;5;34m7\u001b[0m, \u001b[38;5;34m1280\u001b[0m)     │     \u001b[38;5;34m4,049,571\u001b[0m │\n",
       "├─────────────────────────────────┼────────────────────────┼───────────────┤\n",
       "│ global_average_pooling2d        │ (\u001b[38;5;45mNone\u001b[0m, \u001b[38;5;34m1280\u001b[0m)           │             \u001b[38;5;34m0\u001b[0m │\n",
       "│ (\u001b[38;5;33mGlobalAveragePooling2D\u001b[0m)        │                        │               │\n",
       "├─────────────────────────────────┼────────────────────────┼───────────────┤\n",
       "│ dense (\u001b[38;5;33mDense\u001b[0m)                   │ (\u001b[38;5;45mNone\u001b[0m, \u001b[38;5;34m1\u001b[0m)              │         \u001b[38;5;34m1,281\u001b[0m │\n",
       "└─────────────────────────────────┴────────────────────────┴───────────────┘\n"
      ]
     },
     "metadata": {},
     "output_type": "display_data"
    },
    {
     "data": {
      "text/html": [
       "<pre style=\"white-space:pre;overflow-x:auto;line-height:normal;font-family:Menlo,'DejaVu Sans Mono',consolas,'Courier New',monospace\"><span style=\"font-weight: bold\"> Total params: </span><span style=\"color: #00af00; text-decoration-color: #00af00\">4,050,852</span> (15.45 MB)\n",
       "</pre>\n"
      ],
      "text/plain": [
       "\u001b[1m Total params: \u001b[0m\u001b[38;5;34m4,050,852\u001b[0m (15.45 MB)\n"
      ]
     },
     "metadata": {},
     "output_type": "display_data"
    },
    {
     "data": {
      "text/html": [
       "<pre style=\"white-space:pre;overflow-x:auto;line-height:normal;font-family:Menlo,'DejaVu Sans Mono',consolas,'Courier New',monospace\"><span style=\"font-weight: bold\"> Trainable params: </span><span style=\"color: #00af00; text-decoration-color: #00af00\">3,232,509</span> (12.33 MB)\n",
       "</pre>\n"
      ],
      "text/plain": [
       "\u001b[1m Trainable params: \u001b[0m\u001b[38;5;34m3,232,509\u001b[0m (12.33 MB)\n"
      ]
     },
     "metadata": {},
     "output_type": "display_data"
    },
    {
     "data": {
      "text/html": [
       "<pre style=\"white-space:pre;overflow-x:auto;line-height:normal;font-family:Menlo,'DejaVu Sans Mono',consolas,'Courier New',monospace\"><span style=\"font-weight: bold\"> Non-trainable params: </span><span style=\"color: #00af00; text-decoration-color: #00af00\">818,343</span> (3.12 MB)\n",
       "</pre>\n"
      ],
      "text/plain": [
       "\u001b[1m Non-trainable params: \u001b[0m\u001b[38;5;34m818,343\u001b[0m (3.12 MB)\n"
      ]
     },
     "metadata": {},
     "output_type": "display_data"
    },
    {
     "name": "stdout",
     "output_type": "stream",
     "text": [
      "\n",
      "Calculating class weights...\n",
      "Calculated class weights: {0: 2.9942528735632186, 1: 0.6002304147465438}\n"
     ]
    },
    {
     "name": "stderr",
     "output_type": "stream",
     "text": [
      "2025-09-03 13:40:19.868507: W tensorflow/core/framework/local_rendezvous.cc:404] Local rendezvous is aborting with status: OUT_OF_RANGE: End of sequence\n"
     ]
    }
   ],
   "source": [
    "# --- Load the base model ---\n",
    "# Note: If this fails due to version mismatches, use the create_model + load_weights method.\n",
    "print(f\"Loading base model from: {BASE_MODEL_PATH}\")\n",
    "model = tf.keras.models.load_model(BASE_MODEL_PATH)\n",
    "\n",
    "# --- Un-freeze the base model's top layers ---\n",
    "base_model = model.layers[1]\n",
    "base_model.trainable = True\n",
    "\n",
    "# Fine-tune the top third of the layers\n",
    "fine_tune_at = len(base_model.layers) // 3 * 2\n",
    "for layer in base_model.layers[:fine_tune_at]:\n",
    "    layer.trainable = False\n",
    "\n",
    "# --- Re-compile the model with a very low learning rate ---\n",
    "model.compile(\n",
    "    optimizer=tf.keras.optimizers.Adam(learning_rate=1e-5), # 10x smaller learning rate\n",
    "    loss=tf.keras.losses.BinaryCrossentropy(),\n",
    "    metrics=['accuracy', tf.keras.metrics.Recall(name='recall')]\n",
    ")\n",
    "print(\"✅ Model re-compiled for fine-tuning.\")\n",
    "model.summary()\n",
    "\n",
    "# --- Calculate Class Weights ---\n",
    "print(\"\\nCalculating class weights...\")\n",
    "labels = np.concatenate([y for x, y in train_dataset], axis=0)\n",
    "neg, pos = np.bincount(labels.astype(int).flatten())\n",
    "total = neg + pos\n",
    "weight_for_0 = (1 / neg) * (total / 2.0)\n",
    "weight_for_1 = (1 / pos) * (total / 2.0)\n",
    "class_weights = {0: weight_for_0, 1: weight_for_1}\n",
    "print(f\"Calculated class weights: {class_weights}\")"
   ]
  },
  {
   "cell_type": "markdown",
   "id": "6e4bb0ae",
   "metadata": {},
   "source": [
    "## 🏃‍♂️ Step 4: Fine-Tune and Save\n",
    "\n",
    "Now we run the final training process. The model will now update the weights in both our custom head and the un-frozen layers of the EfficientNet base, hopefully leading to a significant performance improvement."
   ]
  },
  {
   "cell_type": "code",
   "execution_count": null,
   "id": "b93d6ee0",
   "metadata": {},
   "outputs": [],
   "source": [
    "# --- Fine-Tune the Model ---\n",
    "print(\"\\n--- Starting model fine-tuning ---\")\n",
    "history = model.fit(\n",
    "    train_dataset,\n",
    "    validation_data=val_dataset,\n",
    "    epochs=EPOCHS,\n",
    "    class_weight=class_weights,\n",
    "    callbacks=[early_stopping]\n",
    ")\n",
    "print(\"--- Model fine-tuning finished ---\\n\")\n",
    "\n",
    "# --- Save the Final Model ---\n",
    "# Ensure the save directory exists\n",
    "os.makedirs(MODEL_SAVE_DIR, exist_ok=True)\n",
    "print(f\"Saving fine-tuned model to {FINE_TUNED_MODEL_PATH}...\")\n",
    "model.save(FINE_TUNED_MODEL_PATH)\n",
    "print(\"✅ Fine-tuned model saved successfully!\")"
   ]
  },
  {
   "cell_type": "markdown",
   "id": "349ef569",
   "metadata": {},
   "source": [
    "# MammoScan AI: 07 - Local Evaluation of the Fine-Tuned Model\n",
    "\n",
    "## 🎯 Goal\n",
    "This notebook provides the final, unbiased evaluation of our fine-tuned transfer learning model on a local machine.\n",
    "\n",
    "**⚠️ Performance Warning:** Running model predictions on a CPU can be slow."
   ]
  },
  {
   "cell_type": "code",
   "execution_count": 8,
   "id": "efe81dc0",
   "metadata": {},
   "outputs": [],
   "source": [
    "# --- Core Libraries ---\n",
    "import os\n",
    "import sys\n",
    "import json\n",
    "import numpy as np\n",
    "import tensorflow as tf\n",
    "import matplotlib.pyplot as plt\n",
    "import seaborn as sns\n",
    "from sklearn.metrics import classification_report, confusion_matrix\n",
    "\n",
    "# --- Path Setup ---\n",
    "project_root = os.path.abspath(os.path.join(os.getcwd(), '..', '..'))\n",
    "if project_root not in sys.path:\n",
    "    sys.path.append(project_root)\n",
    "\n",
    "# --- Custom Modules ---\n",
    "from ml.src.model import create_transfer_model\n",
    "\n",
    "# --- Constants ---\n",
    "PROCESSED_DATA_DIR = os.path.join(project_root, 'data', 'processed')\n",
    "MODEL_PATH = os.path.join(project_root, 'models', 'checkpoints', 'fine_tuned_model.keras')\n",
    "REPORT_PATH = os.path.join(project_root, 'reports', 'fine_tuned_metrics.json')\n",
    "\n",
    "# Hyperparameters\n",
    "IMG_HEIGHT = 224\n",
    "IMG_WIDTH = 224\n",
    "BATCH_SIZE = 32"
   ]
  },
  {
   "cell_type": "code",
   "execution_count": 9,
   "id": "b9e7b345",
   "metadata": {},
   "outputs": [
    {
     "name": "stdout",
     "output_type": "stream",
     "text": [
      "Re-creating transfer learning model architecture...\n",
      "Loading model weights from: /home/mr-rey/Joseph/Projects/Python/mammoscan-AI/models/checkpoints/fine_tuned_model.keras\n",
      "Loading test dataset...\n",
      "Found 112 files belonging to 2 classes.\n",
      "Classes: ['Cancer', 'Non-Cancer']\n"
     ]
    },
    {
     "name": "stderr",
     "output_type": "stream",
     "text": [
      "/home/mr-rey/miniconda3/envs/tensorflow/lib/python3.11/site-packages/keras/src/saving/saving_lib.py:415: UserWarning: Skipping variable loading for optimizer 'rmsprop', because it has 2 variables whereas the saved optimizer has 148 variables. \n",
      "  saveable.load_own_variables(weights_store.get(inner_path))\n"
     ]
    }
   ],
   "source": [
    "# Ensure the processed data is present locally from DVC\n",
    "# !dvc pull data/processed.dvc\n",
    "\n",
    "# 1. Re-create the model architecture from our src module\n",
    "print(\"Re-creating transfer learning model architecture...\")\n",
    "model = create_transfer_model(input_shape=(IMG_HEIGHT, IMG_WIDTH, 3))\n",
    "\n",
    "# 2. Compile the model to prepare it for evaluation\n",
    "model.compile(\n",
    "    loss=tf.keras.losses.BinaryCrossentropy(),\n",
    "    metrics=['accuracy', tf.keras.metrics.Recall(name='recall')]\n",
    ")\n",
    "\n",
    "# 3. Load the fine-tuned weights from our local checkpoints\n",
    "print(f\"Loading model weights from: {MODEL_PATH}\")\n",
    "model.load_weights(MODEL_PATH)\n",
    "\n",
    "# 4. Load and preprocess the test dataset\n",
    "print(\"Loading test dataset...\")\n",
    "test_dataset = tf.keras.utils.image_dataset_from_directory(\n",
    "    os.path.join(PROCESSED_DATA_DIR, 'test'),\n",
    "    image_size=(IMG_HEIGHT, IMG_WIDTH),\n",
    "    batch_size=BATCH_SIZE,\n",
    "    label_mode='binary',\n",
    "    shuffle=False\n",
    ")\n",
    "\n",
    "preprocess_input = tf.keras.applications.efficientnet.preprocess_input\n",
    "test_dataset = test_dataset.map(lambda x, y: (preprocess_input(x), y))\n",
    "\n",
    "class_names = ['Cancer', 'Non-Cancer'] # Correct class order\n",
    "print(f\"Classes: {class_names}\")"
   ]
  },
  {
   "cell_type": "code",
   "execution_count": 10,
   "id": "5a412363",
   "metadata": {},
   "outputs": [
    {
     "name": "stdout",
     "output_type": "stream",
     "text": [
      "\n",
      "Evaluating fine-tuned model on the test set...\n",
      "\u001b[1m4/4\u001b[0m \u001b[32m━━━━━━━━━━━━━━━━━━━━\u001b[0m\u001b[37m\u001b[0m \u001b[1m11s\u001b[0m 1s/step - accuracy: 0.8856 - loss: 0.2777 - recall: 0.9888\n",
      "\n",
      "--- Test Set Evaluation (Fine-Tuned Model) ---\n",
      "Loss: 0.2100\n",
      "Accuracy: 0.9196\n",
      "Recall: 0.9785\n"
     ]
    },
    {
     "name": "stderr",
     "output_type": "stream",
     "text": [
      "2025-09-03 13:54:31.156705: W tensorflow/core/framework/local_rendezvous.cc:404] Local rendezvous is aborting with status: OUT_OF_RANGE: End of sequence\n"
     ]
    },
    {
     "name": "stdout",
     "output_type": "stream",
     "text": [
      "\u001b[1m4/4\u001b[0m \u001b[32m━━━━━━━━━━━━━━━━━━━━\u001b[0m\u001b[37m\u001b[0m \u001b[1m10s\u001b[0m 2s/step\n",
      "\n",
      "--- Classification Report ---\n",
      "              precision    recall  f1-score   support\n",
      "\n",
      "      Cancer       0.86      0.63      0.73        19\n",
      "  Non-Cancer       0.93      0.98      0.95        93\n",
      "\n",
      "    accuracy                           0.92       112\n",
      "   macro avg       0.89      0.81      0.84       112\n",
      "weighted avg       0.92      0.92      0.91       112\n",
      "\n",
      "\n",
      "--- Confusion Matrix ---\n"
     ]
    },
    {
     "data": {
      "image/png": "[encoded data removed]",
      "text/plain": [
       "<Figure size 800x600 with 2 Axes>"
      ]
     },
     "metadata": {},
     "output_type": "display_data"
    },
    {
     "name": "stdout",
     "output_type": "stream",
     "text": [
      "\n",
      "✅ Final metrics saved successfully to: /home/mr-rey/Joseph/Projects/Python/mammoscan-AI/reports/fine_tuned_metrics.json\n"
     ]
    }
   ],
   "source": [
    "# --- Run Evaluation ---\n",
    "print(\"\\nEvaluating fine-tuned model on the test set...\")\n",
    "results = model.evaluate(test_dataset)\n",
    "print(\"\\n--- Test Set Evaluation (Fine-Tuned Model) ---\")\n",
    "print(f\"Loss: {results[0]:.4f}\")\n",
    "print(f\"Accuracy: {results[1]:.4f}\")\n",
    "print(f\"Recall: {results[2]:.4f}\")\n",
    "\n",
    "# --- Generate Detailed Reports ---\n",
    "true_labels = np.concatenate([y for x, y in test_dataset], axis=0)\n",
    "predictions = model.predict(test_dataset)\n",
    "predicted_labels = (predictions > 0.5).astype(int)\n",
    "\n",
    "print(\"\\n--- Classification Report ---\")\n",
    "print(classification_report(true_labels, predicted_labels, target_names=class_names))\n",
    "\n",
    "print(\"\\n--- Confusion Matrix ---\")\n",
    "cm = confusion_matrix(true_labels, predicted_labels)\n",
    "plt.figure(figsize=(8, 6))\n",
    "sns.heatmap(cm, annot=True, fmt='d', cmap='Blues', xticklabels=class_names, yticklabels=class_names)\n",
    "plt.title('Confusion Matrix - Fine-Tuned Model')\n",
    "plt.ylabel('Actual Label')\n",
    "plt.xlabel('Predicted Label')\n",
    "plt.show()\n",
    "\n",
    "# --- Save Metrics to Local File ---\n",
    "final_metrics = {\n",
    "    'loss': results[0],\n",
    "    'accuracy': results[1],\n",
    "    'recall': results[2],\n",
    "    'classification_report': classification_report(true_labels, predicted_labels, target_names=class_names, output_dict=True)\n",
    "}\n",
    "\n",
    "# Ensure the reports directory exists\n",
    "report_dir = os.path.dirname(REPORT_PATH)\n",
    "os.makedirs(report_dir, exist_ok=True)\n",
    "    \n",
    "with open(REPORT_PATH, 'w') as f:\n",
    "    json.dump(final_metrics, f, indent=4)\n",
    "\n",
    "print(f\"\\n✅ Final metrics saved successfully to: {REPORT_PATH}\")"
   ]
  },
  {
   "cell_type": "code",
   "execution_count": null,
   "id": "63d616d6",
   "metadata": {},
   "outputs": [],
   "source": []
  }
 ],
 "metadata": {
  "kernelspec": {
   "display_name": "TensorFlow (Python 3.11)",
   "language": "python",
   "name": "tensorflow"
  },
  "language_info": {
   "codemirror_mode": {
    "name": "ipython",
    "version": 3
   },
   "file_extension": ".py",
   "mimetype": "text/x-python",
   "name": "python",
   "nbconvert_exporter": "python",
   "pygments_lexer": "ipython3",
   "version": "3.11.11"
  }
 },
 "nbformat": 4,
 "nbformat_minor": 5
}
