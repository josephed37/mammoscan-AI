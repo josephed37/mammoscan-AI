{
 "cells": [
  {
   "cell_type": "markdown",
   "id": "4544f14d",
   "metadata": {},
   "source": [
    "# MammoScan AI: 08 - Model Championship Playoff\n",
    "\n",
    "## 🎯 Goal\n",
    "This notebook is the final competition between our two best models: the retrained **Baseline CNN (v2)** and the **Regularized Transfer Learning Model (v2)**.\n",
    "\n",
    "We will load each model, perform a full Precision-Recall analysis on the unseen test set, find their optimal classification thresholds, and compare their best possible performances side-by-side to declare a single, definitive champion model for our project."
   ]
  },
  {
   "cell_type": "code",
   "execution_count": 1,
   "id": "cbbf199e",
   "metadata": {},
   "outputs": [
    {
     "name": "stderr",
     "output_type": "stream",
     "text": [
      "2025-09-05 12:21:27.183081: I external/local_tsl/tsl/cuda/cudart_stub.cc:32] Could not find cuda drivers on your machine, GPU will not be used.\n",
      "2025-09-05 12:21:27.187803: I external/local_tsl/tsl/cuda/cudart_stub.cc:32] Could not find cuda drivers on your machine, GPU will not be used.\n",
      "2025-09-05 12:21:27.251859: I tensorflow/core/platform/cpu_feature_guard.cc:210] This TensorFlow binary is optimized to use available CPU instructions in performance-critical operations.\n",
      "To enable the following instructions: AVX2 FMA, in other operations, rebuild TensorFlow with the appropriate compiler flags.\n",
      "2025-09-05 12:21:28.605565: W tensorflow/compiler/tf2tensorrt/utils/py_utils.cc:38] TF-TRT Warning: Could not find TensorRT\n"
     ]
    }
   ],
   "source": [
    "# --- Core Libraries ---\n",
    "# Import all necessary libraries for our analysis.\n",
    "import os\n",
    "import sys\n",
    "import numpy as np\n",
    "import pandas as pd\n",
    "import tensorflow as tf\n",
    "import matplotlib.pyplot as plt\n",
    "from sklearn.metrics import precision_recall_curve, auc\n",
    "\n",
    "# --- Path Setup ---\n",
    "# This ensures our notebook can find the custom modules in `ml/src`.\n",
    "project_root = os.path.abspath(os.path.join(os.getcwd(), '..', '..'))\n",
    "if project_root not in sys.path:\n",
    "    sys.path.append(project_root)\n",
    "\n",
    "# --- Custom Modules ---\n",
    "# Import our model-building functions. We need these to help load the models robustly.\n",
    "from ml.src.model import build_full_model, create_regularized_transfer_model\n",
    "\n",
    "# --- Constants ---\n",
    "PROCESSED_DATA_DIR = os.path.join(project_root, 'data', 'processed')\n",
    "IMG_HEIGHT = 224\n",
    "IMG_WIDTH = 224\n",
    "BATCH_SIZE = 32"
   ]
  },
  {
   "cell_type": "markdown",
   "id": "2b52fc3d",
   "metadata": {},
   "source": [
    "## 📥 Step 1: Define Contenders and Load Test Data\n",
    "\n",
    "First, we define the paths to our two \"champion\" model files that were trained with the corrected labels. We then load our `test` dataset and prepare two versions of it: one for our baseline model and one with the special preprocessing required by the EfficientNet transfer learning model."
   ]
  },
  {
   "cell_type": "code",
   "execution_count": 2,
   "id": "3f304256",
   "metadata": {},
   "outputs": [
    {
     "name": "stdout",
     "output_type": "stream",
     "text": [
      "Loading test dataset...\n",
      "Found 112 files belonging to 2 classes.\n",
      "✅ Test data is ready.\n"
     ]
    },
    {
     "name": "stderr",
     "output_type": "stream",
     "text": [
      "2025-09-05 12:21:30.500711: I external/local_xla/xla/stream_executor/cuda/cuda_executor.cc:998] successful NUMA node read from SysFS had negative value (-1), but there must be at least one NUMA node, so returning NUMA node zero. See more at https://github.com/torvalds/linux/blob/v6.0/Documentation/ABI/testing/sysfs-bus-pci#L344-L355\n",
      "2025-09-05 12:21:30.504474: W tensorflow/core/common_runtime/gpu/gpu_device.cc:2251] Cannot dlopen some GPU libraries. Please make sure the missing libraries mentioned above are installed properly if you would like to use GPU. Follow the guide at https://www.tensorflow.org/install/gpu for how to download and setup the required libraries for your platform.\n",
      "Skipping registering GPU devices...\n",
      "2025-09-05 12:21:30.683397: W tensorflow/core/framework/local_rendezvous.cc:404] Local rendezvous is aborting with status: OUT_OF_RANGE: End of sequence\n"
     ]
    }
   ],
   "source": [
    "# Ensure our processed data is available locally.\n",
    "# !dvc pull data/processed.dvc\n",
    "\n",
    "# --- Define Our Two Final Contenders ---\n",
    "MODEL_PATHS = {\n",
    "    \"Baseline CNN (v2)\": os.path.join(project_root, 'models', 'checkpoints', 'baseline_model_v2.keras'),\n",
    "    \"Transfer Learning (Regularized v2)\": os.path.join(project_root, 'models', 'checkpoints', 'regularized_fine_tuned_model_v2.keras')\n",
    "}\n",
    "\n",
    "# --- Load the Test Dataset ---\n",
    "print(\"Loading test dataset...\")\n",
    "test_dataset = tf.keras.utils.image_dataset_from_directory(\n",
    "    os.path.join(PROCESSED_DATA_DIR, 'test'),\n",
    "    image_size=(IMG_HEIGHT, IMG_WIDTH),\n",
    "    batch_size=BATCH_SIZE,\n",
    "    label_mode='binary',\n",
    "    shuffle=False # Never shuffle the test set during evaluation\n",
    ")\n",
    "\n",
    "# --- IMPORTANT: Remap labels to match our training (Cancer=1) ---\n",
    "test_dataset = test_dataset.map(lambda x, y: (x, 1 - y))\n",
    "\n",
    "# Create a second version of the dataset for the EfficientNet model\n",
    "preprocess_input = tf.keras.applications.efficientnet.preprocess_input\n",
    "test_dataset_preprocessed = test_dataset.map(lambda x, y: (preprocess_input(x), y))\n",
    "\n",
    "# Get the true labels, which are the same for both dataset versions\n",
    "true_labels = np.concatenate([y for x, y in test_dataset], axis=0)\n",
    "class_names = ['Non-Cancer', 'Cancer'] # Class 0, Class 1\n",
    "print(\"✅ Test data is ready.\")"
   ]
  },
  {
   "cell_type": "markdown",
   "id": "1fd4c106",
   "metadata": {},
   "source": [
    "## 🏆 Step 2: The Championship Analysis Loop\n",
    "\n",
    "Now for the main event. We'll loop through each contender. For each one, we'll use the specific loading strategy that we know works, get its predictions, and perform the Precision-Recall analysis to find its optimal score."
   ]
  },
  {
   "cell_type": "code",
   "execution_count": 3,
   "id": "7cd4854d",
   "metadata": {},
   "outputs": [
    {
     "name": "stderr",
     "output_type": "stream",
     "text": [
      "/home/mr-rey/miniconda3/envs/tensorflow/lib/python3.11/site-packages/keras/src/layers/preprocessing/tf_data_layer.py:18: UserWarning: Do not pass an `input_shape`/`input_dim` argument to a layer. When using Sequential models, prefer using an `Input(shape)` object as the first layer in the model instead.\n",
      "  super().__init__(**kwargs)\n"
     ]
    },
    {
     "name": "stdout",
     "output_type": "stream",
     "text": [
      "\n",
      "--- Evaluating: Baseline CNN (v2) ---\n",
      "Re-creating model architecture from source code...\n",
      "Loading weights from /home/mr-rey/Joseph/Projects/Python/mammoscan-AI/models/checkpoints/baseline_model_v2.keras...\n",
      "✅ Model loaded successfully.\n"
     ]
    },
    {
     "name": "stderr",
     "output_type": "stream",
     "text": [
      "2025-09-05 12:21:31.928573: W external/local_tsl/tsl/framework/cpu_allocator_impl.cc:83] Allocation of 205520896 exceeds 10% of free system memory.\n"
     ]
    },
    {
     "name": "stdout",
     "output_type": "stream",
     "text": [
      "\u001b[1m1/4\u001b[0m \u001b[32m━━━━━\u001b[0m\u001b[37m━━━━━━━━━━━━━━━\u001b[0m \u001b[1m1s\u001b[0m 488ms/step"
     ]
    },
    {
     "name": "stderr",
     "output_type": "stream",
     "text": [
      "2025-09-05 12:21:32.309978: W external/local_tsl/tsl/framework/cpu_allocator_impl.cc:83] Allocation of 205520896 exceeds 10% of free system memory.\n"
     ]
    },
    {
     "name": "stdout",
     "output_type": "stream",
     "text": [
      "\u001b[1m2/4\u001b[0m \u001b[32m━━━━━━━━━━\u001b[0m\u001b[37m━━━━━━━━━━\u001b[0m \u001b[1m0s\u001b[0m 412ms/step"
     ]
    },
    {
     "name": "stderr",
     "output_type": "stream",
     "text": [
      "2025-09-05 12:21:32.720884: W external/local_tsl/tsl/framework/cpu_allocator_impl.cc:83] Allocation of 205520896 exceeds 10% of free system memory.\n"
     ]
    },
    {
     "name": "stdout",
     "output_type": "stream",
     "text": [
      "\u001b[1m4/4\u001b[0m \u001b[32m━━━━━━━━━━━━━━━━━━━━\u001b[0m\u001b[37m\u001b[0m \u001b[1m2s\u001b[0m 392ms/step\n",
      "✅ Analysis complete.\n",
      "\n",
      "--- Evaluating: Transfer Learning (Regularized v2) ---\n",
      "Re-creating model architecture from source code...\n",
      "Loading weights from /home/mr-rey/Joseph/Projects/Python/mammoscan-AI/models/checkpoints/regularized_fine_tuned_model_v2.keras...\n",
      "✅ Model loaded successfully.\n"
     ]
    },
    {
     "name": "stderr",
     "output_type": "stream",
     "text": [
      "2025-09-05 12:21:39.475507: W external/local_tsl/tsl/framework/cpu_allocator_impl.cc:83] Allocation of 154140672 exceeds 10% of free system memory.\n",
      "2025-09-05 12:21:39.538975: W external/local_tsl/tsl/framework/cpu_allocator_impl.cc:83] Allocation of 154140672 exceeds 10% of free system memory.\n"
     ]
    },
    {
     "name": "stdout",
     "output_type": "stream",
     "text": [
      "\u001b[1m4/4\u001b[0m \u001b[32m━━━━━━━━━━━━━━━━━━━━\u001b[0m\u001b[37m\u001b[0m \u001b[1m12s\u001b[0m 2s/step\n",
      "✅ Analysis complete.\n"
     ]
    }
   ],
   "source": [
    "# CELL 6: The Championship Analysis Loop (Corrected)\n",
    "\n",
    "# This list will hold the final results for each model\n",
    "all_results = []\n",
    "\n",
    "for model_name, model_path in MODEL_PATHS.items():\n",
    "    print(f\"\\n--- Evaluating: {model_name} ---\")\n",
    "    \n",
    "    # --- Step 2.1: Select the correct dataset ---\n",
    "    if \"baseline\" in model_name:\n",
    "        eval_dataset = test_dataset\n",
    "    else:\n",
    "        eval_dataset = test_dataset_preprocessed\n",
    "\n",
    "    # --- Step 2.2: Load the Model using the ROBUST STRATEGY ---\n",
    "    print(\"Re-creating model architecture from source code...\")\n",
    "    if \"Baseline\" in model_name:\n",
    "        # For the baseline, we re-create the full model with its augmentation layers\n",
    "        model = build_full_model(input_shape=(IMG_HEIGHT, IMG_WIDTH, 3))\n",
    "    else: # For the transfer learning model\n",
    "        # For the transfer model, we re-create its specific architecture\n",
    "        model = create_regularized_transfer_model(input_shape=(IMG_HEIGHT, IMG_WIDTH, 3))\n",
    "    \n",
    "    print(f\"Loading weights from {model_path}...\")\n",
    "    # Now, we load ONLY the weights into our clean, local architecture\n",
    "    model.load_weights(model_path)\n",
    "    print(\"✅ Model loaded successfully.\")\n",
    "\n",
    "    # --- Step 2.3: Get Predictions ---\n",
    "    raw_predictions = model.predict(eval_dataset)\n",
    "    \n",
    "    # --- Step 2.4: P-R Curve Analysis ---\n",
    "    precision, recall, thresholds = precision_recall_curve(true_labels, raw_predictions)\n",
    "    \n",
    "    pr_df = pd.DataFrame({\n",
    "        'recall': recall[:-1],\n",
    "        'precision': precision[:-1],\n",
    "        'threshold': thresholds\n",
    "    })\n",
    "\n",
    "    # --- Step 2.5: Find Optimal Threshold for >= 90% Recall ---\n",
    "    high_recall_options = pr_df[pr_df['recall'] >= 0.90]\n",
    "    \n",
    "    if not high_recall_options.empty:\n",
    "        best_option = high_recall_options.loc[high_recall_options['precision'].idxmax()]\n",
    "        \n",
    "        # --- Step 2.6: Store the Results ---\n",
    "        all_results.append({\n",
    "            \"Model\": model_name,\n",
    "            \"Best Threshold\": best_option['threshold'],\n",
    "            \"Recall\": best_option['recall'],\n",
    "            \"Precision\": best_option['precision'],\n",
    "        })\n",
    "        print(\"✅ Analysis complete.\")\n",
    "    else:\n",
    "        print(f\"⚠️ No threshold found for {model_name} that achieves at least 90% recall.\")"
   ]
  },
  {
   "cell_type": "markdown",
   "id": "cb0bbb03",
   "metadata": {},
   "source": [
    "## 🏁 Step 3: Final Results and Champion Declaration\n",
    "\n",
    "Finally, we'll display our results in a clean table to make a direct, data-driven comparison and declare our champion model."
   ]
  },
  {
   "cell_type": "code",
   "execution_count": 5,
   "id": "db3c395f",
   "metadata": {},
   "outputs": [
    {
     "name": "stdout",
     "output_type": "stream",
     "text": [
      "Generating curve for: Baseline CNN (v2)\n"
     ]
    },
    {
     "name": "stderr",
     "output_type": "stream",
     "text": [
      "/home/mr-rey/miniconda3/envs/tensorflow/lib/python3.11/site-packages/keras/src/layers/preprocessing/tf_data_layer.py:18: UserWarning: Do not pass an `input_shape`/`input_dim` argument to a layer. When using Sequential models, prefer using an `Input(shape)` object as the first layer in the model instead.\n",
      "  super().__init__(**kwargs)\n",
      "/home/mr-rey/miniconda3/envs/tensorflow/lib/python3.11/site-packages/keras/src/saving/saving_lib.py:415: UserWarning: Skipping variable loading for optimizer 'rmsprop', because it has 2 variables whereas the saved optimizer has 18 variables. \n",
      "  saveable.load_own_variables(weights_store.get(inner_path))\n"
     ]
    },
    {
     "name": "stdout",
     "output_type": "stream",
     "text": [
      "WARNING:tensorflow:5 out of the last 9 calls to <function TensorFlowTrainer.make_predict_function.<locals>.one_step_on_data_distributed at 0x787d7a39b9c0> triggered tf.function retracing. Tracing is expensive and the excessive number of tracings could be due to (1) creating @tf.function repeatedly in a loop, (2) passing tensors with different shapes, (3) passing Python objects instead of tensors. For (1), please define your @tf.function outside of the loop. For (2), @tf.function has reduce_retracing=True option that can avoid unnecessary retracing. For (3), please refer to https://www.tensorflow.org/guide/function#controlling_retracing and https://www.tensorflow.org/api_docs/python/tf/function for  more details.\n",
      "\u001b[1m3/4\u001b[0m \u001b[32m━━━━━━━━━━━━━━━\u001b[0m\u001b[37m━━━━━\u001b[0m \u001b[1m0s\u001b[0m 444ms/stepWARNING:tensorflow:6 out of the last 12 calls to <function TensorFlowTrainer.make_predict_function.<locals>.one_step_on_data_distributed at 0x787d7a39b9c0> triggered tf.function retracing. Tracing is expensive and the excessive number of tracings could be due to (1) creating @tf.function repeatedly in a loop, (2) passing tensors with different shapes, (3) passing Python objects instead of tensors. For (1), please define your @tf.function outside of the loop. For (2), @tf.function has reduce_retracing=True option that can avoid unnecessary retracing. For (3), please refer to https://www.tensorflow.org/guide/function#controlling_retracing and https://www.tensorflow.org/api_docs/python/tf/function for  more details.\n",
      "\u001b[1m4/4\u001b[0m \u001b[32m━━━━━━━━━━━━━━━━━━━━\u001b[0m\u001b[37m\u001b[0m \u001b[1m2s\u001b[0m 378ms/step\n",
      "Generating curve for: Transfer Learning (Regularized v2)\n",
      "\u001b[1m4/4\u001b[0m \u001b[32m━━━━━━━━━━━━━━━━━━━━\u001b[0m\u001b[37m\u001b[0m \u001b[1m11s\u001b[0m 2s/step\n"
     ]
    },
    {
     "data": {
      "image/png": "[encoded data removed]",
      "text/plain": [
       "<Figure size 1000x800 with 1 Axes>"
      ]
     },
     "metadata": {},
     "output_type": "display_data"
    }
   ],
   "source": [
    "\n",
    "import matplotlib.pyplot as plt\n",
    "from sklearn.metrics import precision_recall_curve, auc\n",
    "\n",
    "plt.figure(figsize=(10, 8))\n",
    "\n",
    "# Loop through each model to generate its P-R curve data\n",
    "for model_name, model_path in MODEL_PATHS.items():\n",
    "    print(f\"Generating curve for: {model_name}\")\n",
    "    \n",
    "    # --- Select the correct dataset ---\n",
    "    if \"Baseline\" in model_name:\n",
    "        eval_dataset = test_dataset\n",
    "    else:\n",
    "        eval_dataset = test_dataset_preprocessed\n",
    "\n",
    "    # --- THE FIX: Use the robust loading pattern for the baseline model ---\n",
    "    if \"Baseline\" in model_name:\n",
    "        # 1. Re-create the full architecture from our source code.\n",
    "        model = build_full_model(input_shape=(IMG_HEIGHT, IMG_WIDTH, 3))\n",
    "        # 2. Compile it so it's ready.\n",
    "        model.compile()\n",
    "        # 3. Load only the learned weights, bypassing the config issue.\n",
    "        model.load_weights(model_path)\n",
    "    else: # For the transfer learning model, a direct load is fine.\n",
    "        model = tf.keras.models.load_model(model_path, compile=False)\n",
    "\n",
    "    # --- Get predictions and calculate the curve ---\n",
    "    raw_predictions = model.predict(eval_dataset)\n",
    "    precision, recall, _ = precision_recall_curve(true_labels, raw_predictions)\n",
    "    \n",
    "    # Plot the curve for this specific model\n",
    "    plt.plot(recall, precision, lw=2, label=f'{model_name}')\n",
    "\n",
    "# --- Final plot formatting ---\n",
    "plt.xlabel('Recall', fontsize=12)\n",
    "plt.ylabel('Precision', fontsize=12)\n",
    "plt.title('Precision-Recall Curve Comparison', fontsize=16)\n",
    "plt.legend(loc=\"lower left\")\n",
    "plt.grid(True)\n",
    "plt.show()"
   ]
  },
  {
   "cell_type": "code",
   "execution_count": null,
   "id": "4b52d8b5",
   "metadata": {},
   "outputs": [
    {
     "name": "stdout",
     "output_type": "stream",
     "text": [
      "\n",
      "--- Model Championship Results ---\n",
      "Goal: Highest possible Precision while maintaining at least 90% Recall.\n"
     ]
    },
    {
     "data": {
      "text/html": [
       "<div>\n",
       "<style scoped>\n",
       "    .dataframe tbody tr th:only-of-type {\n",
       "        vertical-align: middle;\n",
       "    }\n",
       "\n",
       "    .dataframe tbody tr th {\n",
       "        vertical-align: top;\n",
       "    }\n",
       "\n",
       "    .dataframe thead th {\n",
       "        text-align: right;\n",
       "    }\n",
       "</style>\n",
       "<table border=\"1\" class=\"dataframe\">\n",
       "  <thead>\n",
       "    <tr style=\"text-align: right;\">\n",
       "      <th></th>\n",
       "      <th>Model</th>\n",
       "      <th>Best Threshold</th>\n",
       "      <th>Recall</th>\n",
       "      <th>Precision</th>\n",
       "    </tr>\n",
       "  </thead>\n",
       "  <tbody>\n",
       "    <tr>\n",
       "      <th>0</th>\n",
       "      <td>Baseline CNN (v2)</td>\n",
       "      <td>0.110593</td>\n",
       "      <td>0.947368</td>\n",
       "      <td>0.580645</td>\n",
       "    </tr>\n",
       "    <tr>\n",
       "      <th>1</th>\n",
       "      <td>Transfer Learning (Regularized v2)</td>\n",
       "      <td>0.345100</td>\n",
       "      <td>0.947368</td>\n",
       "      <td>0.529412</td>\n",
       "    </tr>\n",
       "  </tbody>\n",
       "</table>\n",
       "</div>"
      ],
      "text/plain": [
       "                                Model  Best Threshold    Recall  Precision\n",
       "0                   Baseline CNN (v2)        0.110593  0.947368   0.580645\n",
       "1  Transfer Learning (Regularized v2)        0.345100  0.947368   0.529412"
      ]
     },
     "metadata": {},
     "output_type": "display_data"
    },
    {
     "name": "stdout",
     "output_type": "stream",
     "text": [
      "\n",
      "🏆 CHAMPION MODEL: Baseline CNN (v2)\n",
      "It achieves a recall of 94.74% and precision of 58.06% at a threshold of 0.1106\n"
     ]
    }
   ],
   "source": [
    "# Convert the results list into a pandas DataFrame for a clean summary table.\n",
    "results_df = pd.DataFrame(all_results)\n",
    "\n",
    "print(\"\\n--- Model Championship Results ---\")\n",
    "print(\"Goal: Highest possible Precision while maintaining at least 90% Recall.\")\n",
    "display(results_df)\n",
    "\n",
    "# Programmatically find and declare the champion.\n",
    "if not results_df.empty:\n",
    "    champion = results_df.loc[results_df['Precision'].idxmax()]\n",
    "    print(f\"\\n🏆 CHAMPION MODEL: {champion['Model']}\")\n",
    "    print(f\"It achieves a recall of {champion['Recall']:.2%} and precision of {champion['Precision']:.2%} at a threshold of {champion['Best Threshold']:.4f}\")"
   ]
  }
 ],
 "metadata": {
  "kernelspec": {
   "display_name": "TensorFlow (Python 3.11)",
   "language": "python",
   "name": "tensorflow"
  },
  "language_info": {
   "codemirror_mode": {
    "name": "ipython",
    "version": 3
   },
   "file_extension": ".py",
   "mimetype": "text/x-python",
   "name": "python",
   "nbconvert_exporter": "python",
   "pygments_lexer": "ipython3",
   "version": "3.11.11"
  }
 },
 "nbformat": 4,
 "nbformat_minor": 5
}
