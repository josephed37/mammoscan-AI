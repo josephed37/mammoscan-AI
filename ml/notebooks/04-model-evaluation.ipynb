{
 "cells": [
  {
   "cell_type": "markdown",
   "id": "8275eb05",
   "metadata": {},
   "source": [
    "# MammoScan AI: 04 - Final Model Evaluation\n",
    "\n",
    "## 🎯 Goal\n",
    "This notebook serves as the final, unbiased evaluation of our trained model. We will load our best model from the training phase and test its performance on the `test` dataset, which it has never seen before.\n",
    "\n",
    "This process will generate our official \"report card,\" including a detailed classification report and a confusion matrix to understand exactly where the model makes mistakes."
   ]
  },
  {
   "cell_type": "code",
   "execution_count": 1,
   "id": "06235b89",
   "metadata": {},
   "outputs": [
    {
     "name": "stderr",
     "output_type": "stream",
     "text": [
      "2025-09-02 18:37:35.091135: I external/local_tsl/tsl/cuda/cudart_stub.cc:32] Could not find cuda drivers on your machine, GPU will not be used.\n",
      "2025-09-02 18:37:35.176008: I external/local_tsl/tsl/cuda/cudart_stub.cc:32] Could not find cuda drivers on your machine, GPU will not be used.\n",
      "2025-09-02 18:37:35.518305: I tensorflow/core/platform/cpu_feature_guard.cc:210] This TensorFlow binary is optimized to use available CPU instructions in performance-critical operations.\n",
      "To enable the following instructions: AVX2 FMA, in other operations, rebuild TensorFlow with the appropriate compiler flags.\n",
      "2025-09-02 18:37:36.877111: W tensorflow/compiler/tf2tensorrt/utils/py_utils.cc:38] TF-TRT Warning: Could not find TensorRT\n"
     ]
    }
   ],
   "source": [
    "# --- Core Libraries ---\n",
    "import os\n",
    "import sys\n",
    "import numpy as np\n",
    "import tensorflow as tf\n",
    "import matplotlib.pyplot as plt\n",
    "import seaborn as sns\n",
    "from sklearn.metrics import classification_report, confusion_matrix\n",
    "\n",
    "# --- Path Setup ---\n",
    "project_root = os.path.abspath(os.path.join(os.getcwd(), '..', '..'))\n",
    "if project_root not in sys.path:\n",
    "    sys.path.append(project_root)\n",
    "\n",
    "# --- Constants ---\n",
    "PROCESSED_DATA_DIR = os.path.join(project_root, 'data', 'processed')\n",
    "MODEL_PATH = os.path.join(project_root, 'models', 'checkpoints', 'augmented_model.keras')\n",
    "IMG_HEIGHT = 224\n",
    "IMG_WIDTH = 224\n",
    "BATCH_SIZE = 32"
   ]
  },
  {
   "cell_type": "markdown",
   "id": "25ca1356",
   "metadata": {},
   "source": [
    "## 📥 Step 1: Load the Model and Test Data\n",
    "\n",
    "First, we ensure our data is present by running `dvc pull`. Then, we load our saved Keras model and the `test` dataset that we set aside during our preprocessing step."
   ]
  },
  {
   "cell_type": "code",
   "execution_count": 2,
   "id": "90b041dc",
   "metadata": {},
   "outputs": [],
   "source": [
    "# Ensure the processed data is present locally\n",
    "# !dvc pull data/processed.dvc\n"
   ]
  },
  {
   "cell_type": "code",
   "execution_count": 3,
   "id": "c2299f41",
   "metadata": {},
   "outputs": [
    {
     "name": "stdout",
     "output_type": "stream",
     "text": [
      "Re-creating model architecture...\n"
     ]
    },
    {
     "name": "stderr",
     "output_type": "stream",
     "text": [
      "/home/mr-rey/miniconda3/envs/tensorflow/lib/python3.11/site-packages/keras/src/layers/preprocessing/tf_data_layer.py:18: UserWarning: Do not pass an `input_shape`/`input_dim` argument to a layer. When using Sequential models, prefer using an `Input(shape)` object as the first layer in the model instead.\n",
      "  super().__init__(**kwargs)\n",
      "2025-09-02 18:37:39.988361: I external/local_xla/xla/stream_executor/cuda/cuda_executor.cc:998] successful NUMA node read from SysFS had negative value (-1), but there must be at least one NUMA node, so returning NUMA node zero. See more at https://github.com/torvalds/linux/blob/v6.0/Documentation/ABI/testing/sysfs-bus-pci#L344-L355\n",
      "2025-09-02 18:37:39.992188: W tensorflow/core/common_runtime/gpu/gpu_device.cc:2251] Cannot dlopen some GPU libraries. Please make sure the missing libraries mentioned above are installed properly if you would like to use GPU. Follow the guide at https://www.tensorflow.org/install/gpu for how to download and setup the required libraries for your platform.\n",
      "Skipping registering GPU devices...\n"
     ]
    },
    {
     "name": "stdout",
     "output_type": "stream",
     "text": [
      "Compiling model...\n",
      "Loading model weights from: /home/mr-rey/Joseph/Projects/Python/mammoscan-AI/models/checkpoints/augmented_model.keras\n",
      "Loading test dataset...\n",
      "Found 112 files belonging to 2 classes.\n",
      "Classes found: ['Cancer', 'Non-Cancer']\n"
     ]
    },
    {
     "name": "stderr",
     "output_type": "stream",
     "text": [
      "/home/mr-rey/miniconda3/envs/tensorflow/lib/python3.11/site-packages/keras/src/saving/saving_lib.py:415: UserWarning: Skipping variable loading for optimizer 'adam', because it has 2 variables whereas the saved optimizer has 18 variables. \n",
      "  saveable.load_own_variables(weights_store.get(inner_path))\n"
     ]
    }
   ],
   "source": [
    "from ml.src.model import build_full_model\n",
    "\n",
    "# 1. First, we build the model architecture from our source code.\n",
    "#    This creates an empty \"shell\" of our model.\n",
    "print(\"Re-creating model architecture...\")\n",
    "model = build_full_model(input_shape=(IMG_HEIGHT, IMG_WIDTH, 3))\n",
    "\n",
    "# 2. THEN, we compile it with the exact same settings used for training.\n",
    "#    This connects the \"dashboard gauges\" needed for evaluation.\n",
    "print(\"Compiling model...\")\n",
    "model.compile(\n",
    "    optimizer='adam',\n",
    "    loss=tf.keras.losses.BinaryCrossentropy(),\n",
    "    metrics=['accuracy', tf.keras.metrics.Recall(name='recall')]\n",
    ")\n",
    "\n",
    "# 3. Then, we load only the learned weights into this shell.\n",
    "#    This bypasses the config loading and is more robust to version changes.\n",
    "print(f\"Loading model weights from: {MODEL_PATH}\")\n",
    "model.load_weights(MODEL_PATH)\n",
    "\n",
    "\n",
    "# Load the test dataset\n",
    "print(\"Loading test dataset...\")\n",
    "test_dataset = tf.keras.utils.image_dataset_from_directory(\n",
    "    os.path.join(PROCESSED_DATA_DIR, 'test'),\n",
    "    image_size=(IMG_HEIGHT, IMG_WIDTH),\n",
    "    batch_size=BATCH_SIZE,\n",
    "    label_mode='binary',\n",
    "    shuffle=False\n",
    ")\n",
    "\n",
    "class_names = test_dataset.class_names\n",
    "print(f\"Classes found: {class_names}\")"
   ]
  },
  {
   "cell_type": "markdown",
   "id": "5b8a7b49",
   "metadata": {},
   "source": [
    "## 📝 Step 2: Run the \"Final Exam\"\n",
    "\n",
    "We use `model.evaluate()` to get the final loss, accuracy, and recall on the test set. This is the model's official score on unseen data."
   ]
  },
  {
   "cell_type": "code",
   "execution_count": 4,
   "id": "baf7e9ae",
   "metadata": {},
   "outputs": [
    {
     "name": "stdout",
     "output_type": "stream",
     "text": [
      "Evaluating model on the test set...\n",
      "\u001b[1m4/4\u001b[0m \u001b[32m━━━━━━━━━━━━━━━━━━━━\u001b[0m\u001b[37m\u001b[0m \u001b[1m2s\u001b[0m 265ms/step - accuracy: 0.9488 - loss: 0.2119 - recall: 0.9730\n",
      "\n",
      "--- Test Set Evaluation ---\n",
      "Loss: 0.1719\n",
      "Accuracy: 0.9554\n",
      "Recall: 0.9677\n"
     ]
    }
   ],
   "source": [
    "print(\"Evaluating model on the test set...\")\n",
    "results = model.evaluate(test_dataset)\n",
    "\n",
    "print(\"\\n--- Test Set Evaluation ---\")\n",
    "print(f\"Loss: {results[0]:.4f}\")\n",
    "print(f\"Accuracy: {results[1]:.4f}\")\n",
    "print(f\"Recall: {results[2]:.4f}\")"
   ]
  },
  {
   "cell_type": "markdown",
   "id": "4c8e306a",
   "metadata": {},
   "source": [
    "The model performs exceptionally well on the completely unseen test data, achieving a final **accuracy of 95.5%**. Most importantly, it reached a **recall of 96.8%**, meaning it correctly identified nearly 97% of the actual cancer cases, demonstrating strong potential for real-world application where minimizing false negatives is critical. This result serves as a successful performance benchmark for our baseline model."
   ]
  },
  {
   "cell_type": "markdown",
   "id": "6c0d95ea",
   "metadata": {},
   "source": [
    "## 📊 Step 3: Deep-Dive Analysis\n",
    "\n",
    "Now we go deeper than simple accuracy. We'll get the model's predictions for every image in the test set and use them to create two key visualizations:\n",
    "\n",
    "1.  **Classification Report:** A detailed breakdown of precision, recall, and F1-score for each class.\n",
    "2.  **Confusion Matrix:** A visual grid showing exactly what the model got right and what it got wrong."
   ]
  },
  {
   "cell_type": "code",
   "execution_count": 5,
   "id": "231e774f",
   "metadata": {},
   "outputs": [
    {
     "name": "stderr",
     "output_type": "stream",
     "text": [
      "2025-09-02 18:37:43.082026: W tensorflow/core/framework/local_rendezvous.cc:404] Local rendezvous is aborting with status: OUT_OF_RANGE: End of sequence\n"
     ]
    },
    {
     "name": "stdout",
     "output_type": "stream",
     "text": [
      "\u001b[1m4/4\u001b[0m \u001b[32m━━━━━━━━━━━━━━━━━━━━\u001b[0m\u001b[37m\u001b[0m \u001b[1m1s\u001b[0m 311ms/step\n",
      "\n",
      "--- Classification Report ---\n",
      "              precision    recall  f1-score   support\n",
      "\n",
      "      Cancer       0.85      0.89      0.87        19\n",
      "  Non-Cancer       0.98      0.97      0.97        93\n",
      "\n",
      "    accuracy                           0.96       112\n",
      "   macro avg       0.91      0.93      0.92       112\n",
      "weighted avg       0.96      0.96      0.96       112\n",
      "\n",
      "\n",
      "--- Confusion Matrix ---\n"
     ]
    },
    {
     "data": {
      "image/png": "[encoded data removed]",
      "text/plain": [
       "<Figure size 800x600 with 2 Axes>"
      ]
     },
     "metadata": {},
     "output_type": "display_data"
    }
   ],
   "source": [
    "# Get true labels and predictions\n",
    "true_labels = np.concatenate([y for x, y in test_dataset], axis=0)\n",
    "predictions = model.predict(test_dataset)\n",
    "predicted_labels = (predictions > 0.5).astype(int)\n",
    "\n",
    "# 1. Classification Report\n",
    "print(\"\\n--- Classification Report ---\")\n",
    "print(classification_report(true_labels, predicted_labels, target_names=class_names))\n",
    "\n",
    "# 2. Confusion Matrix\n",
    "print(\"\\n--- Confusion Matrix ---\")\n",
    "cm = confusion_matrix(true_labels, predicted_labels)\n",
    "plt.figure(figsize=(8, 6))\n",
    "sns.heatmap(cm, annot=True, fmt='d', cmap='Blues', xticklabels=class_names, yticklabels=class_names)\n",
    "plt.title('Confusion Matrix')\n",
    "plt.ylabel('Actual Label')\n",
    "plt.xlabel('Predicted Label')\n",
    "plt.show()"
   ]
  },
  {
   "cell_type": "markdown",
   "id": "03f0c9df",
   "metadata": {},
   "source": [
    "The model performs very well on the unseen test data, achieving an overall **accuracy of 96%**. Most importantly, it demonstrates a strong ability to find true cancer cases, with a **recall of 89%**, meaning it correctly identified 17 out of the 19 malignancies. This result, with only **2 missed cases (False Negatives)**, establishes an excellent and trustworthy performance baseline for our project."
   ]
  },
  {
   "cell_type": "code",
   "execution_count": 6,
   "id": "e44c146e",
   "metadata": {},
   "outputs": [
    {
     "name": "stdout",
     "output_type": "stream",
     "text": [
      "✅ Final metrics saved successfully to: /home/mr-rey/Joseph/Projects/Python/mammoscan-AI/reports/baseline_augmented_metrics.json\n"
     ]
    }
   ],
   "source": [
    "# --- Final Cell in the Notebook ---\n",
    "import json\n",
    "\n",
    "# Let's create a dictionary to hold all our final metrics\n",
    "final_metrics = {\n",
    "    'loss': results[0],\n",
    "    'accuracy': results[1],\n",
    "    'recall': results[2],\n",
    "    'classification_report': classification_report(true_labels, predicted_labels, target_names=class_names, output_dict=True)\n",
    "}\n",
    "\n",
    "# Define the path for our report\n",
    "report_path = os.path.join(project_root, 'reports', 'baseline_augmented_metrics.json')\n",
    "\n",
    "# Save the metrics as a JSON file\n",
    "with open(report_path, 'w') as f:\n",
    "    json.dump(final_metrics, f, indent=4)\n",
    "\n",
    "print(f\"✅ Final metrics saved successfully to: {report_path}\")"
   ]
  }
 ],
 "metadata": {
  "kernelspec": {
   "display_name": "TensorFlow (Python 3.11)",
   "language": "python",
   "name": "tensorflow"
  },
  "language_info": {
   "codemirror_mode": {
    "name": "ipython",
    "version": 3
   },
   "file_extension": ".py",
   "mimetype": "text/x-python",
   "name": "python",
   "nbconvert_exporter": "python",
   "pygments_lexer": "ipython3",
   "version": "3.11.11"
  }
 },
 "nbformat": 4,
 "nbformat_minor": 5
}
