{
 "cells": [
  {
   "cell_type": "markdown",
   "id": "800c4b32",
   "metadata": {},
   "source": [
    "# MammoScan AI: 03 - Local Training of the Augmented Baseline Model\n",
    "\n",
    "## 🎯 Goal\n",
    "The purpose of this notebook is to provide a clean, documented, and reproducible record of the training process for our baseline model. This model incorporates on-the-fly data augmentation to combat the overfitting we discovered previously.\n",
    "\n",
    "This notebook uses the exact same logic as our `ml/scripts/train.py` script but presents it in an interactive format.\n",
    "\n",
    "**Note:** While this notebook can be run locally on a CPU, it will be very slow. For full, high-speed training runs, it is recommended to use the code within a Google Colab environment with a GPU enabled."
   ]
  },
  {
   "cell_type": "markdown",
   "id": "84af3bf5",
   "metadata": {},
   "source": [
    "## ⚙️ Setup\n",
    "First, we import our necessary libraries and set up the system path. This allows the notebook to find our custom, reusable functions in the `ml/src` directory, keeping our code clean and modular."
   ]
  },
  {
   "cell_type": "code",
   "execution_count": 1,
   "id": "6c1af3dc",
   "metadata": {},
   "outputs": [
    {
     "name": "stderr",
     "output_type": "stream",
     "text": [
      "2025-09-02 13:23:43.199886: I external/local_tsl/tsl/cuda/cudart_stub.cc:32] Could not find cuda drivers on your machine, GPU will not be used.\n",
      "2025-09-02 13:23:43.203258: I external/local_tsl/tsl/cuda/cudart_stub.cc:32] Could not find cuda drivers on your machine, GPU will not be used.\n",
      "2025-09-02 13:23:43.252832: I tensorflow/core/platform/cpu_feature_guard.cc:210] This TensorFlow binary is optimized to use available CPU instructions in performance-critical operations.\n",
      "To enable the following instructions: AVX2 FMA, in other operations, rebuild TensorFlow with the appropriate compiler flags.\n",
      "2025-09-02 13:23:44.457019: W tensorflow/compiler/tf2tensorrt/utils/py_utils.cc:38] TF-TRT Warning: Could not find TensorRT\n"
     ]
    }
   ],
   "source": [
    "# --- Core Libraries ---\n",
    "import os\n",
    "import sys\n",
    "import numpy as np\n",
    "import tensorflow as tf\n",
    "\n",
    "# --- Path Setup ---\n",
    "# Add the project's root directory to the Python path\n",
    "project_root = os.path.abspath(os.path.join(os.getcwd(), '..', '..'))\n",
    "if project_root not in sys.path:\n",
    "    sys.path.append(project_root)\n",
    "\n",
    "# --- Custom Modules ---\n",
    "# Import our advanced model-building function from the \"workshop\"\n",
    "from ml.src.model import build_full_model"
   ]
  },
  {
   "cell_type": "markdown",
   "id": "adae3e11",
   "metadata": {},
   "source": [
    "## 📥 Step 1: Ensure Data is Present & Define Constants\n",
    "\n",
    "Before we begin, we must ensure that the correct version of our processed data is available locally. We run `dvc pull` to synchronize our local data with our Google Cloud Storage remote.\n",
    "\n",
    "We also define all our key constants and hyperparameters in one place. This makes it easy to see and change our settings for future experiments."
   ]
  },
  {
   "cell_type": "code",
   "execution_count": 2,
   "id": "67e574da",
   "metadata": {},
   "outputs": [],
   "source": [
    "# This command ensures that our `data/processed` directory is up-to-date.\n",
    "# We should be using the version WITHOUT the pre-augmented data.\n",
    "\n",
    "# !dvc pull data/processed.dvc"
   ]
  },
  {
   "cell_type": "code",
   "execution_count": 3,
   "id": "16ed9248",
   "metadata": {},
   "outputs": [],
   "source": [
    "# --- Constants ---\n",
    "PROCESSED_DATA_DIR = os.path.join(project_root, 'data', 'processed')\n",
    "MODEL_SAVE_DIR = os.path.join(project_root, 'models', 'checkpoints')\n",
    "MODEL_SAVE_PATH = os.path.join(MODEL_SAVE_DIR, 'augmented_model_local.keras') # Give it a unique name\n",
    "\n",
    "# Training Hyperparameters\n",
    "IMG_HEIGHT = 224\n",
    "IMG_WIDTH = 224\n",
    "BATCH_SIZE = 32\n",
    "EPOCHS = 20 # Can be lowered for quick local tests"
   ]
  },
  {
   "cell_type": "markdown",
   "id": "110a9d00",
   "metadata": {},
   "source": [
    "## 🚚 Step 2: Load Datasets\n",
    "\n",
    "We use TensorFlow's `image_dataset_from_directory` utility. This is a highly efficient method that creates a data pipeline directly from our organized image folders. It loads images in batches, which is much more memory-efficient than loading the entire dataset at once."
   ]
  },
  {
   "cell_type": "code",
   "execution_count": 4,
   "id": "5936eb54",
   "metadata": {},
   "outputs": [
    {
     "name": "stdout",
     "output_type": "stream",
     "text": [
      "Loading datasets...\n",
      "Found 521 files belonging to 2 classes.\n",
      "Found 112 files belonging to 2 classes.\n",
      "Classes found: ['Cancer', 'Non-Cancer']\n"
     ]
    },
    {
     "name": "stderr",
     "output_type": "stream",
     "text": [
      "2025-09-02 13:25:38.229931: I external/local_xla/xla/stream_executor/cuda/cuda_executor.cc:998] successful NUMA node read from SysFS had negative value (-1), but there must be at least one NUMA node, so returning NUMA node zero. See more at https://github.com/torvalds/linux/blob/v6.0/Documentation/ABI/testing/sysfs-bus-pci#L344-L355\n",
      "2025-09-02 13:25:38.234045: W tensorflow/core/common_runtime/gpu/gpu_device.cc:2251] Cannot dlopen some GPU libraries. Please make sure the missing libraries mentioned above are installed properly if you would like to use GPU. Follow the guide at https://www.tensorflow.org/install/gpu for how to download and setup the required libraries for your platform.\n",
      "Skipping registering GPU devices...\n"
     ]
    }
   ],
   "source": [
    "print(\"Loading datasets...\")\n",
    "train_dataset = tf.keras.utils.image_dataset_from_directory(\n",
    "    os.path.join(PROCESSED_DATA_DIR, 'train'),\n",
    "    image_size=(IMG_HEIGHT, IMG_WIDTH),\n",
    "    batch_size=BATCH_SIZE,\n",
    "    label_mode='binary' # For Cancer/Non-Cancer\n",
    ")\n",
    "\n",
    "val_dataset = tf.keras.utils.image_dataset_from_directory(\n",
    "    os.path.join(PROCESSED_DATA_DIR, 'val'),\n",
    "    image_size=(IMG_HEIGHT, IMG_WIDTH),\n",
    "    batch_size=BATCH_SIZE,\n",
    "    label_mode='binary'\n",
    ")\n",
    "\n",
    "class_names = train_dataset.class_names\n",
    "print(f\"Classes found: {class_names}\")"
   ]
  },
  {
   "cell_type": "markdown",
   "id": "7f061c52",
   "metadata": {},
   "source": [
    "## ⚖️ Step 3: Handle Class Imbalance\n",
    "\n",
    "As discovered in our EDA, our dataset is imbalanced. To solve this, we calculate class weights. This technique tells the model to pay significantly more attention to the minority class (Cancer) during training, preventing it from becoming biased towards the majority class."
   ]
  },
  {
   "cell_type": "code",
   "execution_count": 5,
   "id": "f591f4e6",
   "metadata": {},
   "outputs": [
    {
     "name": "stdout",
     "output_type": "stream",
     "text": [
      "Calculating class weights for imbalanced data...\n",
      "Calculated class weights: {0: 2.9942528735632186, 1: 0.6002304147465438}\n"
     ]
    },
    {
     "name": "stderr",
     "output_type": "stream",
     "text": [
      "2025-09-02 13:26:23.317175: W tensorflow/core/framework/local_rendezvous.cc:404] Local rendezvous is aborting with status: OUT_OF_RANGE: End of sequence\n"
     ]
    }
   ],
   "source": [
    "print(\"Calculating class weights for imbalanced data...\")\n",
    "labels = np.concatenate([y for x, y in train_dataset], axis=0)\n",
    "neg, pos = np.bincount(labels.astype(int).flatten())\n",
    "total = neg + pos\n",
    "\n",
    "weight_for_0 = (1 / neg) * (total / 2.0)\n",
    "weight_for_1 = (1 / pos) * (total / 2.0)\n",
    "\n",
    "class_weights = {0: weight_for_0, 1: weight_for_1}\n",
    "print(f\"Calculated class weights: {class_weights}\")"
   ]
  },
  {
   "cell_type": "markdown",
   "id": "8735a093",
   "metadata": {},
   "source": [
    "## 🏗️ Step 4: Create and Compile the Model\n",
    "\n",
    "We now call our `build_full_model` function to create our robust model, which includes the on-the-fly data augmentation layers. We then compile it, providing the optimizer, the loss function (the goal), and the metrics we want to track."
   ]
  },
  {
   "cell_type": "code",
   "execution_count": 6,
   "id": "3b6fa055",
   "metadata": {},
   "outputs": [
    {
     "name": "stdout",
     "output_type": "stream",
     "text": [
      "Creating and compiling the model with data augmentation layers...\n"
     ]
    },
    {
     "name": "stderr",
     "output_type": "stream",
     "text": [
      "/home/mr-rey/miniconda3/envs/tensorflow/lib/python3.11/site-packages/keras/src/layers/preprocessing/tf_data_layer.py:18: UserWarning: Do not pass an `input_shape`/`input_dim` argument to a layer. When using Sequential models, prefer using an `Input(shape)` object as the first layer in the model instead.\n",
      "  super().__init__(**kwargs)\n",
      "2025-09-02 13:26:52.080096: W external/local_tsl/tsl/framework/cpu_allocator_impl.cc:83] Allocation of 102760448 exceeds 10% of free system memory.\n",
      "2025-09-02 13:26:52.124227: W external/local_tsl/tsl/framework/cpu_allocator_impl.cc:83] Allocation of 102760448 exceeds 10% of free system memory.\n",
      "2025-09-02 13:26:52.139526: W external/local_tsl/tsl/framework/cpu_allocator_impl.cc:83] Allocation of 102760448 exceeds 10% of free system memory.\n"
     ]
    },
    {
     "data": {
      "text/html": [
       "<pre style=\"white-space:pre;overflow-x:auto;line-height:normal;font-family:Menlo,'DejaVu Sans Mono',consolas,'Courier New',monospace\"><span style=\"font-weight: bold\">Model: \"sequential\"</span>\n",
       "</pre>\n"
      ],
      "text/plain": [
       "\u001b[1mModel: \"sequential\"\u001b[0m\n"
      ]
     },
     "metadata": {},
     "output_type": "display_data"
    },
    {
     "data": {
      "text/html": [
       "<pre style=\"white-space:pre;overflow-x:auto;line-height:normal;font-family:Menlo,'DejaVu Sans Mono',consolas,'Courier New',monospace\">┏━━━━━━━━━━━━━━━━━━━━━━━━━━━━━━━━━┳━━━━━━━━━━━━━━━━━━━━━━━━┳━━━━━━━━━━━━━━━┓\n",
       "┃<span style=\"font-weight: bold\"> Layer (type)                    </span>┃<span style=\"font-weight: bold\"> Output Shape           </span>┃<span style=\"font-weight: bold\">       Param # </span>┃\n",
       "┡━━━━━━━━━━━━━━━━━━━━━━━━━━━━━━━━━╇━━━━━━━━━━━━━━━━━━━━━━━━╇━━━━━━━━━━━━━━━┩\n",
       "│ data_augmentation (<span style=\"color: #0087ff; text-decoration-color: #0087ff\">Sequential</span>)  │ ?                      │             <span style=\"color: #00af00; text-decoration-color: #00af00\">0</span> │\n",
       "├─────────────────────────────────┼────────────────────────┼───────────────┤\n",
       "│ baseline_cnn (<span style=\"color: #0087ff; text-decoration-color: #0087ff\">Sequential</span>)       │ ?                      │    <span style=\"color: #00af00; text-decoration-color: #00af00\">25,709,761</span> │\n",
       "└─────────────────────────────────┴────────────────────────┴───────────────┘\n",
       "</pre>\n"
      ],
      "text/plain": [
       "┏━━━━━━━━━━━━━━━━━━━━━━━━━━━━━━━━━┳━━━━━━━━━━━━━━━━━━━━━━━━┳━━━━━━━━━━━━━━━┓\n",
       "┃\u001b[1m \u001b[0m\u001b[1mLayer (type)                   \u001b[0m\u001b[1m \u001b[0m┃\u001b[1m \u001b[0m\u001b[1mOutput Shape          \u001b[0m\u001b[1m \u001b[0m┃\u001b[1m \u001b[0m\u001b[1m      Param #\u001b[0m\u001b[1m \u001b[0m┃\n",
       "┡━━━━━━━━━━━━━━━━━━━━━━━━━━━━━━━━━╇━━━━━━━━━━━━━━━━━━━━━━━━╇━━━━━━━━━━━━━━━┩\n",
       "│ data_augmentation (\u001b[38;5;33mSequential\u001b[0m)  │ ?                      │             \u001b[38;5;34m0\u001b[0m │\n",
       "├─────────────────────────────────┼────────────────────────┼───────────────┤\n",
       "│ baseline_cnn (\u001b[38;5;33mSequential\u001b[0m)       │ ?                      │    \u001b[38;5;34m25,709,761\u001b[0m │\n",
       "└─────────────────────────────────┴────────────────────────┴───────────────┘\n"
      ]
     },
     "metadata": {},
     "output_type": "display_data"
    },
    {
     "data": {
      "text/html": [
       "<pre style=\"white-space:pre;overflow-x:auto;line-height:normal;font-family:Menlo,'DejaVu Sans Mono',consolas,'Courier New',monospace\"><span style=\"font-weight: bold\"> Total params: </span><span style=\"color: #00af00; text-decoration-color: #00af00\">25,709,761</span> (98.07 MB)\n",
       "</pre>\n"
      ],
      "text/plain": [
       "\u001b[1m Total params: \u001b[0m\u001b[38;5;34m25,709,761\u001b[0m (98.07 MB)\n"
      ]
     },
     "metadata": {},
     "output_type": "display_data"
    },
    {
     "data": {
      "text/html": [
       "<pre style=\"white-space:pre;overflow-x:auto;line-height:normal;font-family:Menlo,'DejaVu Sans Mono',consolas,'Courier New',monospace\"><span style=\"font-weight: bold\"> Trainable params: </span><span style=\"color: #00af00; text-decoration-color: #00af00\">25,709,761</span> (98.07 MB)\n",
       "</pre>\n"
      ],
      "text/plain": [
       "\u001b[1m Trainable params: \u001b[0m\u001b[38;5;34m25,709,761\u001b[0m (98.07 MB)\n"
      ]
     },
     "metadata": {},
     "output_type": "display_data"
    },
    {
     "data": {
      "text/html": [
       "<pre style=\"white-space:pre;overflow-x:auto;line-height:normal;font-family:Menlo,'DejaVu Sans Mono',consolas,'Courier New',monospace\"><span style=\"font-weight: bold\"> Non-trainable params: </span><span style=\"color: #00af00; text-decoration-color: #00af00\">0</span> (0.00 B)\n",
       "</pre>\n"
      ],
      "text/plain": [
       "\u001b[1m Non-trainable params: \u001b[0m\u001b[38;5;34m0\u001b[0m (0.00 B)\n"
      ]
     },
     "metadata": {},
     "output_type": "display_data"
    }
   ],
   "source": [
    "print(\"Creating and compiling the model with data augmentation layers...\")\n",
    "model = build_full_model(input_shape=(IMG_HEIGHT, IMG_WIDTH, 3))\n",
    "\n",
    "model.compile(\n",
    "    optimizer='adam',\n",
    "    loss=tf.keras.losses.BinaryCrossentropy(),\n",
    "    metrics=['accuracy', tf.keras.metrics.Recall(name='recall')]\n",
    ")\n",
    "\n",
    "model.summary()"
   ]
  },
  {
   "cell_type": "markdown",
   "id": "450c00ee",
   "metadata": {},
   "source": [
    "## 🏃‍♂️ Step 5: Train the Model\n",
    "\n",
    "This is the main event. We call `model.fit()` to begin the training process. The model will iterate through the training dataset for the specified number of epochs, and after each epoch, it will evaluate its performance on the unseen validation dataset."
   ]
  },
  {
   "cell_type": "code",
   "execution_count": null,
   "id": "3860ce3c",
   "metadata": {},
   "outputs": [],
   "source": [
    "print(\"\\n--- Starting model training ---\")\n",
    "# Create the save directory if it doesn't exist\n",
    "os.makedirs(MODEL_SAVE_DIR, exist_ok=True)\n",
    "\n",
    "history = model.fit(\n",
    "    train_dataset,\n",
    "    validation_data=val_dataset,\n",
    "    epochs=EPOCHS,\n",
    "    class_weight=class_weights\n",
    ")\n",
    "print(\"--- Model training finished ---\\n\")"
   ]
  },
  {
   "cell_type": "markdown",
   "id": "843694e8",
   "metadata": {},
   "source": [
    "## 💾 Step 6: Save the Trained Model\n",
    "\n",
    "After training is complete, we save the final model artifact. This `.keras` file contains the model's architecture, its learned weights, and the optimizer state, allowing us to easily load it later for evaluation or deployment."
   ]
  },
  {
   "cell_type": "code",
   "execution_count": null,
   "id": "795419fe",
   "metadata": {},
   "outputs": [],
   "source": [
    "print(f\"Saving augmented model to {MODEL_SAVE_PATH}...\")\n",
    "model.save(MODEL_SAVE_PATH)\n",
    "print(\"✅ Model saved successfully!\")"
   ]
  }
 ],
 "metadata": {
  "kernelspec": {
   "display_name": "TensorFlow (Python 3.11)",
   "language": "python",
   "name": "tensorflow"
  },
  "language_info": {
   "codemirror_mode": {
    "name": "ipython",
    "version": 3
   },
   "file_extension": ".py",
   "mimetype": "text/x-python",
   "name": "python",
   "nbconvert_exporter": "python",
   "pygments_lexer": "ipython3",
   "version": "3.11.11"
  }
 },
 "nbformat": 4,
 "nbformat_minor": 5
}
